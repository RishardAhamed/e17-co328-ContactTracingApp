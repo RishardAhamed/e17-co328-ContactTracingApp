{
  "cells": [
    {
      "cell_type": "code",
      "execution_count": 363,
      "metadata": {
        "id": "4OtwBHv-fokp"
      },
      "outputs": [],
      "source": [
        "import pandas as pd\n",
        "import numpy as np\n",
        "import matplotlib.pyplot as plt"
      ]
    },
    {
      "cell_type": "code",
      "execution_count": 364,
      "metadata": {
        "id": "eQMHqpoJfza1"
      },
      "outputs": [],
      "source": [
        "df = pd.read_csv('CKDU_Confimed.csv',index_col='Date',parse_dates=True)\n",
        "df.index.freq='MS'\n",
        "\n"
      ]
    },
    {
      "cell_type": "code",
      "execution_count": 365,
      "metadata": {
        "colab": {
          "base_uri": "https://localhost:8080/",
          "height": 238
        },
        "id": "VrbgW6PUg2No",
        "outputId": "c155d4ac-b02a-4434-a7a8-ffcaaa37acd9"
      },
      "outputs": [
        {
          "output_type": "execute_result",
          "data": {
            "text/plain": [
              "            Confirmed Cases\n",
              "Date                       \n",
              "2010-01-01              584\n",
              "2010-02-01              606\n",
              "2010-03-01              294\n",
              "2010-04-01              224\n",
              "2010-05-01              296"
            ],
            "text/html": [
              "\n",
              "  <div id=\"df-20eee3f7-ed38-4ad3-801a-2f7c76017ed8\">\n",
              "    <div class=\"colab-df-container\">\n",
              "      <div>\n",
              "<style scoped>\n",
              "    .dataframe tbody tr th:only-of-type {\n",
              "        vertical-align: middle;\n",
              "    }\n",
              "\n",
              "    .dataframe tbody tr th {\n",
              "        vertical-align: top;\n",
              "    }\n",
              "\n",
              "    .dataframe thead th {\n",
              "        text-align: right;\n",
              "    }\n",
              "</style>\n",
              "<table border=\"1\" class=\"dataframe\">\n",
              "  <thead>\n",
              "    <tr style=\"text-align: right;\">\n",
              "      <th></th>\n",
              "      <th>Confirmed Cases</th>\n",
              "    </tr>\n",
              "    <tr>\n",
              "      <th>Date</th>\n",
              "      <th></th>\n",
              "    </tr>\n",
              "  </thead>\n",
              "  <tbody>\n",
              "    <tr>\n",
              "      <th>2010-01-01</th>\n",
              "      <td>584</td>\n",
              "    </tr>\n",
              "    <tr>\n",
              "      <th>2010-02-01</th>\n",
              "      <td>606</td>\n",
              "    </tr>\n",
              "    <tr>\n",
              "      <th>2010-03-01</th>\n",
              "      <td>294</td>\n",
              "    </tr>\n",
              "    <tr>\n",
              "      <th>2010-04-01</th>\n",
              "      <td>224</td>\n",
              "    </tr>\n",
              "    <tr>\n",
              "      <th>2010-05-01</th>\n",
              "      <td>296</td>\n",
              "    </tr>\n",
              "  </tbody>\n",
              "</table>\n",
              "</div>\n",
              "      <button class=\"colab-df-convert\" onclick=\"convertToInteractive('df-20eee3f7-ed38-4ad3-801a-2f7c76017ed8')\"\n",
              "              title=\"Convert this dataframe to an interactive table.\"\n",
              "              style=\"display:none;\">\n",
              "        \n",
              "  <svg xmlns=\"http://www.w3.org/2000/svg\" height=\"24px\"viewBox=\"0 0 24 24\"\n",
              "       width=\"24px\">\n",
              "    <path d=\"M0 0h24v24H0V0z\" fill=\"none\"/>\n",
              "    <path d=\"M18.56 5.44l.94 2.06.94-2.06 2.06-.94-2.06-.94-.94-2.06-.94 2.06-2.06.94zm-11 1L8.5 8.5l.94-2.06 2.06-.94-2.06-.94L8.5 2.5l-.94 2.06-2.06.94zm10 10l.94 2.06.94-2.06 2.06-.94-2.06-.94-.94-2.06-.94 2.06-2.06.94z\"/><path d=\"M17.41 7.96l-1.37-1.37c-.4-.4-.92-.59-1.43-.59-.52 0-1.04.2-1.43.59L10.3 9.45l-7.72 7.72c-.78.78-.78 2.05 0 2.83L4 21.41c.39.39.9.59 1.41.59.51 0 1.02-.2 1.41-.59l7.78-7.78 2.81-2.81c.8-.78.8-2.07 0-2.86zM5.41 20L4 18.59l7.72-7.72 1.47 1.35L5.41 20z\"/>\n",
              "  </svg>\n",
              "      </button>\n",
              "      \n",
              "  <style>\n",
              "    .colab-df-container {\n",
              "      display:flex;\n",
              "      flex-wrap:wrap;\n",
              "      gap: 12px;\n",
              "    }\n",
              "\n",
              "    .colab-df-convert {\n",
              "      background-color: #E8F0FE;\n",
              "      border: none;\n",
              "      border-radius: 50%;\n",
              "      cursor: pointer;\n",
              "      display: none;\n",
              "      fill: #1967D2;\n",
              "      height: 32px;\n",
              "      padding: 0 0 0 0;\n",
              "      width: 32px;\n",
              "    }\n",
              "\n",
              "    .colab-df-convert:hover {\n",
              "      background-color: #E2EBFA;\n",
              "      box-shadow: 0px 1px 2px rgba(60, 64, 67, 0.3), 0px 1px 3px 1px rgba(60, 64, 67, 0.15);\n",
              "      fill: #174EA6;\n",
              "    }\n",
              "\n",
              "    [theme=dark] .colab-df-convert {\n",
              "      background-color: #3B4455;\n",
              "      fill: #D2E3FC;\n",
              "    }\n",
              "\n",
              "    [theme=dark] .colab-df-convert:hover {\n",
              "      background-color: #434B5C;\n",
              "      box-shadow: 0px 1px 3px 1px rgba(0, 0, 0, 0.15);\n",
              "      filter: drop-shadow(0px 1px 2px rgba(0, 0, 0, 0.3));\n",
              "      fill: #FFFFFF;\n",
              "    }\n",
              "  </style>\n",
              "\n",
              "      <script>\n",
              "        const buttonEl =\n",
              "          document.querySelector('#df-20eee3f7-ed38-4ad3-801a-2f7c76017ed8 button.colab-df-convert');\n",
              "        buttonEl.style.display =\n",
              "          google.colab.kernel.accessAllowed ? 'block' : 'none';\n",
              "\n",
              "        async function convertToInteractive(key) {\n",
              "          const element = document.querySelector('#df-20eee3f7-ed38-4ad3-801a-2f7c76017ed8');\n",
              "          const dataTable =\n",
              "            await google.colab.kernel.invokeFunction('convertToInteractive',\n",
              "                                                     [key], {});\n",
              "          if (!dataTable) return;\n",
              "\n",
              "          const docLinkHtml = 'Like what you see? Visit the ' +\n",
              "            '<a target=\"_blank\" href=https://colab.research.google.com/notebooks/data_table.ipynb>data table notebook</a>'\n",
              "            + ' to learn more about interactive tables.';\n",
              "          element.innerHTML = '';\n",
              "          dataTable['output_type'] = 'display_data';\n",
              "          await google.colab.output.renderOutput(dataTable, element);\n",
              "          const docLink = document.createElement('div');\n",
              "          docLink.innerHTML = docLinkHtml;\n",
              "          element.appendChild(docLink);\n",
              "        }\n",
              "      </script>\n",
              "    </div>\n",
              "  </div>\n",
              "  "
            ]
          },
          "metadata": {},
          "execution_count": 365
        }
      ],
      "source": [
        "df.head()"
      ]
    },
    {
      "cell_type": "code",
      "execution_count": 366,
      "metadata": {
        "colab": {
          "base_uri": "https://localhost:8080/",
          "height": 405
        },
        "id": "y8HY_YcOg9ao",
        "outputId": "226daafb-660b-49ec-9f20-090b92e3be9a"
      },
      "outputs": [
        {
          "output_type": "execute_result",
          "data": {
            "text/plain": [
              "<matplotlib.axes._subplots.AxesSubplot at 0x7f3a08362ed0>"
            ]
          },
          "metadata": {},
          "execution_count": 366
        },
        {
          "output_type": "display_data",
          "data": {
            "text/plain": [
              "<Figure size 864x432 with 1 Axes>"
            ],
            "image/png": "[encoded data removed]"
          },
          "metadata": {
            "needs_background": "light"
          }
        }
      ],
      "source": [
        "df.plot(figsize=(12,6))"
      ]
    },
    {
      "cell_type": "code",
      "execution_count": 367,
      "metadata": {
        "colab": {
          "base_uri": "https://localhost:8080/"
        },
        "id": "KPJsResJg-XI",
        "outputId": "8710bcdf-450e-482f-83d5-4bd05dbc2431"
      },
      "outputs": [
        {
          "output_type": "execute_result",
          "data": {
            "text/plain": [
              "144"
            ]
          },
          "metadata": {},
          "execution_count": 367
        }
      ],
      "source": [
        "len(df)"
      ]
    },
    {
      "cell_type": "code",
      "execution_count": 368,
      "metadata": {
        "id": "clu2Y9sbhFmp"
      },
      "outputs": [],
      "source": [
        "train = df.iloc[:108]\n",
        "test = df.iloc[108:]"
      ]
    },
    {
      "cell_type": "code",
      "execution_count": 369,
      "metadata": {
        "id": "PDBlDwzPhgJx"
      },
      "outputs": [],
      "source": [
        "from sklearn.preprocessing import MinMaxScaler\n",
        "scaler = MinMaxScaler()"
      ]
    },
    {
      "cell_type": "code",
      "execution_count": 370,
      "metadata": {
        "colab": {
          "base_uri": "https://localhost:8080/"
        },
        "id": "aL_UuhL6hhoX",
        "outputId": "8d72437f-ab82-405e-ca97-991d397eaa17"
      },
      "outputs": [
        {
          "output_type": "execute_result",
          "data": {
            "text/plain": [
              "(            Confirmed Cases\n",
              " Date                       \n",
              " 2010-01-01              584\n",
              " 2010-02-01              606\n",
              " 2010-03-01              294\n",
              " 2010-04-01              224\n",
              " 2010-05-01              296,             Confirmed Cases\n",
              " Date                       \n",
              " 2021-08-01              286\n",
              " 2021-09-01              245\n",
              " 2021-10-01              789\n",
              " 2021-11-01              904\n",
              " 2021-12-01             1134)"
            ]
          },
          "metadata": {},
          "execution_count": 370
        }
      ],
      "source": [
        "df.head(),df.tail()"
      ]
    },
    {
      "cell_type": "code",
      "execution_count": 371,
      "metadata": {
        "id": "_Tmolk4lhlJh"
      },
      "outputs": [],
      "source": [
        "scaler.fit(train)\n",
        "scaled_train = scaler.transform(train)\n",
        "scaled_test = scaler.transform(test)"
      ]
    },
    {
      "cell_type": "code",
      "execution_count": 372,
      "metadata": {
        "colab": {
          "base_uri": "https://localhost:8080/"
        },
        "id": "WmtRU2RUhqDR",
        "outputId": "aff60932-7a80-4794-e374-709a4c803346"
      },
      "outputs": [
        {
          "output_type": "execute_result",
          "data": {
            "text/plain": [
              "array([[0.15049444],\n",
              "       [0.15729295],\n",
              "       [0.06087763],\n",
              "       [0.03924598],\n",
              "       [0.06149567],\n",
              "       [0.18634116],\n",
              "       [0.44283066],\n",
              "       [0.24227441],\n",
              "       [0.06644005],\n",
              "       [0.05253399]])"
            ]
          },
          "metadata": {},
          "execution_count": 372
        }
      ],
      "source": [
        "scaled_train[:10]"
      ]
    },
    {
      "cell_type": "code",
      "execution_count": 373,
      "metadata": {
        "id": "3Wvk1FX1htIy"
      },
      "outputs": [],
      "source": [
        "from keras.preprocessing.sequence import TimeseriesGenerator"
      ]
    },
    {
      "cell_type": "code",
      "execution_count": 374,
      "metadata": {
        "id": "us6iKQrzhydx"
      },
      "outputs": [],
      "source": [
        "# define generator\n",
        "n_input = 3\n",
        "n_features = 1\n",
        "generator = TimeseriesGenerator(scaled_train, scaled_train, length=n_input, batch_size=1)"
      ]
    },
    {
      "cell_type": "code",
      "execution_count": 375,
      "metadata": {
        "colab": {
          "base_uri": "https://localhost:8080/"
        },
        "id": "H4tuscV1iFvF",
        "outputId": "341d6e1d-1c52-4cc3-da8b-ba9791798f4f"
      },
      "outputs": [
        {
          "output_type": "stream",
          "name": "stdout",
          "text": [
            "Given the Array: \n",
            "[0.15049444 0.15729295 0.06087763]\n",
            "Predict this y: \n",
            " [[0.03924598]]\n"
          ]
        }
      ],
      "source": [
        "X,y = generator[0]\n",
        "print(f'Given the Array: \\n{X.flatten()}')\n",
        "print(f'Predict this y: \\n {y}')"
      ]
    },
    {
      "cell_type": "code",
      "execution_count": 376,
      "metadata": {
        "colab": {
          "base_uri": "https://localhost:8080/"
        },
        "id": "jSiULP-jiMnk",
        "outputId": "cdf6ebde-0a94-41ca-9e58-878bd4e23cef"
      },
      "outputs": [
        {
          "output_type": "execute_result",
          "data": {
            "text/plain": [
              "(1, 3, 1)"
            ]
          },
          "metadata": {},
          "execution_count": 376
        }
      ],
      "source": [
        "X.shape"
      ]
    },
    {
      "cell_type": "code",
      "execution_count": 377,
      "metadata": {
        "id": "XsLK7VeeiPNo"
      },
      "outputs": [],
      "source": [
        "# We do the same thing, but now instead for 12 months\n",
        "n_input = 12\n",
        "generator = TimeseriesGenerator(scaled_train, scaled_train, length=n_input, batch_size=1)"
      ]
    },
    {
      "cell_type": "code",
      "execution_count": 378,
      "metadata": {
        "id": "4JjDyZ-OiRhP"
      },
      "outputs": [],
      "source": [
        "from keras.models import Sequential\n",
        "from keras.layers import Dense\n",
        "from keras.layers import LSTM"
      ]
    },
    {
      "cell_type": "code",
      "execution_count": 379,
      "metadata": {
        "id": "uknDvtS4iTv5"
      },
      "outputs": [],
      "source": [
        "# define model\n",
        "model = Sequential()\n",
        "model.add(LSTM(100, activation='relu', input_shape=(n_input, n_features)))\n",
        "model.add(Dense(1))\n",
        "model.compile(optimizer='adam', loss='mse')"
      ]
    },
    {
      "cell_type": "code",
      "execution_count": 380,
      "metadata": {
        "colab": {
          "base_uri": "https://localhost:8080/"
        },
        "id": "fQozPlWyiXGB",
        "outputId": "d4cbe555-da8a-40f5-c473-36c7fcf39f41"
      },
      "outputs": [
        {
          "output_type": "stream",
          "name": "stdout",
          "text": [
            "Model: \"sequential_15\"\n",
            "_________________________________________________________________\n",
            " Layer (type)                Output Shape              Param #   \n",
            "=================================================================\n",
            " lstm_15 (LSTM)              (None, 100)               40800     \n",
            "                                                                 \n",
            " dense_15 (Dense)            (None, 1)                 101       \n",
            "                                                                 \n",
            "=================================================================\n",
            "Total params: 40,901\n",
            "Trainable params: 40,901\n",
            "Non-trainable params: 0\n",
            "_________________________________________________________________\n"
          ]
        }
      ],
      "source": [
        "model.summary()\n"
      ]
    },
    {
      "cell_type": "code",
      "execution_count": 407,
      "metadata": {
        "colab": {
          "base_uri": "https://localhost:8080/"
        },
        "id": "4XxK5hl3iZoP",
        "outputId": "8ff9c453-729f-44b1-a9d1-709edace54dd"
      },
      "outputs": [
        {
          "output_type": "stream",
          "name": "stdout",
          "text": [
            "Epoch 1/170\n",
            "96/96 [==============================] - 1s 7ms/step - loss: 0.0041\n",
            "Epoch 2/170\n",
            "96/96 [==============================] - 1s 7ms/step - loss: 0.0044\n",
            "Epoch 3/170\n",
            "96/96 [==============================] - 1s 7ms/step - loss: 0.0042\n",
            "Epoch 4/170\n",
            "96/96 [==============================] - 1s 7ms/step - loss: 0.0033\n",
            "Epoch 5/170\n",
            "96/96 [==============================] - 1s 7ms/step - loss: 0.0030\n",
            "Epoch 6/170\n",
            "96/96 [==============================] - 1s 7ms/step - loss: 0.0036\n",
            "Epoch 7/170\n",
            "96/96 [==============================] - 1s 8ms/step - loss: 0.0030\n",
            "Epoch 8/170\n",
            "96/96 [==============================] - 1s 7ms/step - loss: 0.0034\n",
            "Epoch 9/170\n",
            "96/96 [==============================] - 1s 7ms/step - loss: 0.0036\n",
            "Epoch 10/170\n",
            "96/96 [==============================] - 1s 7ms/step - loss: 0.0050\n",
            "Epoch 11/170\n",
            "96/96 [==============================] - 1s 7ms/step - loss: 0.0033\n",
            "Epoch 12/170\n",
            "96/96 [==============================] - 1s 7ms/step - loss: 0.0027\n",
            "Epoch 13/170\n",
            "96/96 [==============================] - 1s 7ms/step - loss: 0.0033\n",
            "Epoch 14/170\n",
            "96/96 [==============================] - 1s 6ms/step - loss: 0.0078\n",
            "Epoch 15/170\n",
            "96/96 [==============================] - 1s 7ms/step - loss: 0.0034\n",
            "Epoch 16/170\n",
            "96/96 [==============================] - 1s 7ms/step - loss: 0.0025\n",
            "Epoch 17/170\n",
            "96/96 [==============================] - 1s 7ms/step - loss: 0.0027\n",
            "Epoch 18/170\n",
            "96/96 [==============================] - 1s 7ms/step - loss: 0.0027\n",
            "Epoch 19/170\n",
            "96/96 [==============================] - 1s 7ms/step - loss: 0.0031\n",
            "Epoch 20/170\n",
            "96/96 [==============================] - 1s 8ms/step - loss: 0.0021\n",
            "Epoch 21/170\n",
            "96/96 [==============================] - 1s 8ms/step - loss: 0.0024\n",
            "Epoch 22/170\n",
            "96/96 [==============================] - 1s 7ms/step - loss: 0.0032\n",
            "Epoch 23/170\n",
            "96/96 [==============================] - 1s 8ms/step - loss: 0.0035\n",
            "Epoch 24/170\n",
            "96/96 [==============================] - 1s 7ms/step - loss: 0.0026\n",
            "Epoch 25/170\n",
            "96/96 [==============================] - 1s 8ms/step - loss: 0.0022\n",
            "Epoch 26/170\n",
            "96/96 [==============================] - 1s 7ms/step - loss: 0.0023\n",
            "Epoch 27/170\n",
            "96/96 [==============================] - 1s 8ms/step - loss: 0.0018\n",
            "Epoch 28/170\n",
            "96/96 [==============================] - 1s 7ms/step - loss: 0.0021\n",
            "Epoch 29/170\n",
            "96/96 [==============================] - 1s 7ms/step - loss: 0.0021\n",
            "Epoch 30/170\n",
            "96/96 [==============================] - 1s 7ms/step - loss: 0.0030\n",
            "Epoch 31/170\n",
            "96/96 [==============================] - 1s 7ms/step - loss: 0.0025\n",
            "Epoch 32/170\n",
            "96/96 [==============================] - 1s 8ms/step - loss: 0.0023\n",
            "Epoch 33/170\n",
            "96/96 [==============================] - 1s 7ms/step - loss: 0.0026\n",
            "Epoch 34/170\n",
            "96/96 [==============================] - 1s 7ms/step - loss: 0.0022\n",
            "Epoch 35/170\n",
            "96/96 [==============================] - 1s 7ms/step - loss: 0.0027\n",
            "Epoch 36/170\n",
            "96/96 [==============================] - 1s 7ms/step - loss: 0.0023\n",
            "Epoch 37/170\n",
            "96/96 [==============================] - 1s 7ms/step - loss: 0.0024\n",
            "Epoch 38/170\n",
            "96/96 [==============================] - 1s 7ms/step - loss: 0.0018\n",
            "Epoch 39/170\n",
            "96/96 [==============================] - 1s 7ms/step - loss: 0.0024\n",
            "Epoch 40/170\n",
            "96/96 [==============================] - 1s 7ms/step - loss: 0.0021\n",
            "Epoch 41/170\n",
            "96/96 [==============================] - 1s 7ms/step - loss: 0.0019\n",
            "Epoch 42/170\n",
            "96/96 [==============================] - 1s 7ms/step - loss: 0.0024\n",
            "Epoch 43/170\n",
            "96/96 [==============================] - 1s 7ms/step - loss: 0.0018\n",
            "Epoch 44/170\n",
            "96/96 [==============================] - 1s 7ms/step - loss: 0.0022\n",
            "Epoch 45/170\n",
            "96/96 [==============================] - 1s 7ms/step - loss: 0.0032\n",
            "Epoch 46/170\n",
            "96/96 [==============================] - 1s 8ms/step - loss: 0.0062\n",
            "Epoch 47/170\n",
            "96/96 [==============================] - 1s 7ms/step - loss: 0.0039\n",
            "Epoch 48/170\n",
            "96/96 [==============================] - 1s 7ms/step - loss: 0.0020\n",
            "Epoch 49/170\n",
            "96/96 [==============================] - 1s 7ms/step - loss: 0.0014\n",
            "Epoch 50/170\n",
            "96/96 [==============================] - 1s 7ms/step - loss: 0.0012\n",
            "Epoch 51/170\n",
            "96/96 [==============================] - 1s 7ms/step - loss: 0.0012\n",
            "Epoch 52/170\n",
            "96/96 [==============================] - 1s 7ms/step - loss: 0.0013\n",
            "Epoch 53/170\n",
            "96/96 [==============================] - 1s 7ms/step - loss: 0.0016\n",
            "Epoch 54/170\n",
            "96/96 [==============================] - 1s 7ms/step - loss: 0.0022\n",
            "Epoch 55/170\n",
            "96/96 [==============================] - 1s 7ms/step - loss: 0.0019\n",
            "Epoch 56/170\n",
            "96/96 [==============================] - 1s 7ms/step - loss: 0.0023\n",
            "Epoch 57/170\n",
            "96/96 [==============================] - 1s 7ms/step - loss: 0.0020\n",
            "Epoch 58/170\n",
            "96/96 [==============================] - 1s 6ms/step - loss: 0.0024\n",
            "Epoch 59/170\n",
            "96/96 [==============================] - 1s 7ms/step - loss: 0.0020\n",
            "Epoch 60/170\n",
            "96/96 [==============================] - 1s 6ms/step - loss: 0.0014\n",
            "Epoch 61/170\n",
            "96/96 [==============================] - 1s 7ms/step - loss: 0.0021\n",
            "Epoch 62/170\n",
            "96/96 [==============================] - 1s 7ms/step - loss: 0.0016\n",
            "Epoch 63/170\n",
            "96/96 [==============================] - 1s 7ms/step - loss: 0.0012\n",
            "Epoch 64/170\n",
            "96/96 [==============================] - 1s 7ms/step - loss: 0.0018\n",
            "Epoch 65/170\n",
            "96/96 [==============================] - 1s 7ms/step - loss: 0.0013\n",
            "Epoch 66/170\n",
            "96/96 [==============================] - 1s 7ms/step - loss: 0.0010\n",
            "Epoch 67/170\n",
            "96/96 [==============================] - 1s 7ms/step - loss: 0.0016\n",
            "Epoch 68/170\n",
            "96/96 [==============================] - 1s 7ms/step - loss: 0.0011\n",
            "Epoch 69/170\n",
            "96/96 [==============================] - 1s 7ms/step - loss: 0.0015\n",
            "Epoch 70/170\n",
            "96/96 [==============================] - 1s 7ms/step - loss: 0.0015\n",
            "Epoch 71/170\n",
            "96/96 [==============================] - 1s 7ms/step - loss: 0.0011\n",
            "Epoch 72/170\n",
            "96/96 [==============================] - 1s 7ms/step - loss: 0.0015\n",
            "Epoch 73/170\n",
            "96/96 [==============================] - 1s 7ms/step - loss: 0.0012\n",
            "Epoch 74/170\n",
            "96/96 [==============================] - 1s 7ms/step - loss: 0.0010\n",
            "Epoch 75/170\n",
            "96/96 [==============================] - 1s 7ms/step - loss: 8.8857e-04\n",
            "Epoch 76/170\n",
            "96/96 [==============================] - 1s 7ms/step - loss: 9.4661e-04\n",
            "Epoch 77/170\n",
            "96/96 [==============================] - 1s 7ms/step - loss: 0.0010\n",
            "Epoch 78/170\n",
            "96/96 [==============================] - 1s 7ms/step - loss: 0.0013\n",
            "Epoch 79/170\n",
            "96/96 [==============================] - 1s 7ms/step - loss: 0.0032\n",
            "Epoch 80/170\n",
            "96/96 [==============================] - 1s 7ms/step - loss: 0.0036\n",
            "Epoch 81/170\n",
            "96/96 [==============================] - 1s 7ms/step - loss: 0.0019\n",
            "Epoch 82/170\n",
            "96/96 [==============================] - 1s 8ms/step - loss: 0.0016\n",
            "Epoch 83/170\n",
            "96/96 [==============================] - 1s 7ms/step - loss: 0.0011\n",
            "Epoch 84/170\n",
            "96/96 [==============================] - 1s 7ms/step - loss: 7.2874e-04\n",
            "Epoch 85/170\n",
            "96/96 [==============================] - 1s 7ms/step - loss: 9.4860e-04\n",
            "Epoch 86/170\n",
            "96/96 [==============================] - 1s 7ms/step - loss: 5.7121e-04\n",
            "Epoch 87/170\n",
            "96/96 [==============================] - 1s 7ms/step - loss: 5.2460e-04\n",
            "Epoch 88/170\n",
            "96/96 [==============================] - 1s 6ms/step - loss: 5.7672e-04\n",
            "Epoch 89/170\n",
            "96/96 [==============================] - 1s 6ms/step - loss: 6.2566e-04\n",
            "Epoch 90/170\n",
            "96/96 [==============================] - 1s 7ms/step - loss: 0.0013\n",
            "Epoch 91/170\n",
            "96/96 [==============================] - 1s 7ms/step - loss: 0.0019\n",
            "Epoch 92/170\n",
            "96/96 [==============================] - 1s 7ms/step - loss: 0.0013\n",
            "Epoch 93/170\n",
            "96/96 [==============================] - 1s 7ms/step - loss: 7.6682e-04\n",
            "Epoch 94/170\n",
            "96/96 [==============================] - 1s 7ms/step - loss: 8.2781e-04\n",
            "Epoch 95/170\n",
            "96/96 [==============================] - 1s 7ms/step - loss: 9.4413e-04\n",
            "Epoch 96/170\n",
            "96/96 [==============================] - 1s 9ms/step - loss: 0.0021\n",
            "Epoch 97/170\n",
            "96/96 [==============================] - 1s 7ms/step - loss: 0.0020\n",
            "Epoch 98/170\n",
            "96/96 [==============================] - 1s 7ms/step - loss: 0.0011\n",
            "Epoch 99/170\n",
            "96/96 [==============================] - 1s 7ms/step - loss: 0.0014\n",
            "Epoch 100/170\n",
            "96/96 [==============================] - 1s 7ms/step - loss: 9.9580e-04\n",
            "Epoch 101/170\n",
            "96/96 [==============================] - 1s 8ms/step - loss: 8.2481e-04\n",
            "Epoch 102/170\n",
            "96/96 [==============================] - 1s 7ms/step - loss: 7.3449e-04\n",
            "Epoch 103/170\n",
            "96/96 [==============================] - 1s 7ms/step - loss: 5.1325e-04\n",
            "Epoch 104/170\n",
            "96/96 [==============================] - 1s 8ms/step - loss: 0.0010\n",
            "Epoch 105/170\n",
            "96/96 [==============================] - 1s 7ms/step - loss: 0.0015\n",
            "Epoch 106/170\n",
            "96/96 [==============================] - 1s 7ms/step - loss: 0.0011\n",
            "Epoch 107/170\n",
            "96/96 [==============================] - 1s 7ms/step - loss: 0.0012\n",
            "Epoch 108/170\n",
            "96/96 [==============================] - 1s 8ms/step - loss: 0.0012\n",
            "Epoch 109/170\n",
            "96/96 [==============================] - 1s 6ms/step - loss: 0.0014\n",
            "Epoch 110/170\n",
            "96/96 [==============================] - 1s 6ms/step - loss: 5.3927e-04\n",
            "Epoch 111/170\n",
            "96/96 [==============================] - 1s 7ms/step - loss: 6.0910e-04\n",
            "Epoch 112/170\n",
            "96/96 [==============================] - 1s 7ms/step - loss: 5.8979e-04\n",
            "Epoch 113/170\n",
            "96/96 [==============================] - 1s 7ms/step - loss: 0.0012\n",
            "Epoch 114/170\n",
            "96/96 [==============================] - 1s 7ms/step - loss: 0.0015\n",
            "Epoch 115/170\n",
            "96/96 [==============================] - 1s 8ms/step - loss: 8.4062e-04\n",
            "Epoch 116/170\n",
            "96/96 [==============================] - 1s 7ms/step - loss: 5.6653e-04\n",
            "Epoch 117/170\n",
            "96/96 [==============================] - 1s 7ms/step - loss: 0.0013\n",
            "Epoch 118/170\n",
            "96/96 [==============================] - 1s 7ms/step - loss: 0.0011\n",
            "Epoch 119/170\n",
            "96/96 [==============================] - 1s 7ms/step - loss: 0.0028\n",
            "Epoch 120/170\n",
            "96/96 [==============================] - 1s 6ms/step - loss: 0.0016\n",
            "Epoch 121/170\n",
            "96/96 [==============================] - 1s 7ms/step - loss: 0.0013\n",
            "Epoch 122/170\n",
            "96/96 [==============================] - 1s 7ms/step - loss: 6.0069e-04\n",
            "Epoch 123/170\n",
            "96/96 [==============================] - 1s 8ms/step - loss: 3.0233e-04\n",
            "Epoch 124/170\n",
            "96/96 [==============================] - 1s 7ms/step - loss: 2.7701e-04\n",
            "Epoch 125/170\n",
            "96/96 [==============================] - 1s 8ms/step - loss: 3.5846e-04\n",
            "Epoch 126/170\n",
            "96/96 [==============================] - 1s 7ms/step - loss: 4.4613e-04\n",
            "Epoch 127/170\n",
            "96/96 [==============================] - 1s 7ms/step - loss: 8.5049e-04\n",
            "Epoch 128/170\n",
            "96/96 [==============================] - 1s 7ms/step - loss: 6.0483e-04\n",
            "Epoch 129/170\n",
            "96/96 [==============================] - 1s 7ms/step - loss: 6.2913e-04\n",
            "Epoch 130/170\n",
            "96/96 [==============================] - 1s 7ms/step - loss: 0.0013\n",
            "Epoch 131/170\n",
            "96/96 [==============================] - 1s 7ms/step - loss: 0.0032\n",
            "Epoch 132/170\n",
            "96/96 [==============================] - 1s 8ms/step - loss: 0.0027\n",
            "Epoch 133/170\n",
            "96/96 [==============================] - 1s 7ms/step - loss: 6.3221e-04\n",
            "Epoch 134/170\n",
            "96/96 [==============================] - 1s 7ms/step - loss: 6.4373e-04\n",
            "Epoch 135/170\n",
            "96/96 [==============================] - 1s 7ms/step - loss: 6.7944e-04\n",
            "Epoch 136/170\n",
            "96/96 [==============================] - 1s 7ms/step - loss: 6.0314e-04\n",
            "Epoch 137/170\n",
            "96/96 [==============================] - 1s 8ms/step - loss: 4.6103e-04\n",
            "Epoch 138/170\n",
            "96/96 [==============================] - 1s 7ms/step - loss: 6.4545e-04\n",
            "Epoch 139/170\n",
            "96/96 [==============================] - 1s 7ms/step - loss: 8.3186e-04\n",
            "Epoch 140/170\n",
            "96/96 [==============================] - 1s 6ms/step - loss: 6.9467e-04\n",
            "Epoch 141/170\n",
            "96/96 [==============================] - 1s 7ms/step - loss: 9.6903e-04\n",
            "Epoch 142/170\n",
            "96/96 [==============================] - 1s 7ms/step - loss: 8.2735e-04\n",
            "Epoch 143/170\n",
            "96/96 [==============================] - 1s 7ms/step - loss: 5.7688e-04\n",
            "Epoch 144/170\n",
            "96/96 [==============================] - 1s 7ms/step - loss: 3.9247e-04\n",
            "Epoch 145/170\n",
            "96/96 [==============================] - 1s 7ms/step - loss: 7.3311e-04\n",
            "Epoch 146/170\n",
            "96/96 [==============================] - 1s 7ms/step - loss: 0.0013\n",
            "Epoch 147/170\n",
            "96/96 [==============================] - 1s 7ms/step - loss: 4.3226e-04\n",
            "Epoch 148/170\n",
            "96/96 [==============================] - 1s 8ms/step - loss: 5.0592e-04\n",
            "Epoch 149/170\n",
            "96/96 [==============================] - 1s 7ms/step - loss: 5.3165e-04\n",
            "Epoch 150/170\n",
            "96/96 [==============================] - 1s 7ms/step - loss: 4.0857e-04\n",
            "Epoch 151/170\n",
            "96/96 [==============================] - 1s 8ms/step - loss: 3.8649e-04\n",
            "Epoch 152/170\n",
            "96/96 [==============================] - 1s 7ms/step - loss: 3.8465e-04\n",
            "Epoch 153/170\n",
            "96/96 [==============================] - 1s 8ms/step - loss: 4.8889e-04\n",
            "Epoch 154/170\n",
            "96/96 [==============================] - 1s 7ms/step - loss: 5.8184e-04\n",
            "Epoch 155/170\n",
            "96/96 [==============================] - 1s 7ms/step - loss: 4.1521e-04\n",
            "Epoch 156/170\n",
            "96/96 [==============================] - 1s 8ms/step - loss: 3.6731e-04\n",
            "Epoch 157/170\n",
            "96/96 [==============================] - 1s 8ms/step - loss: 4.3588e-04\n",
            "Epoch 158/170\n",
            "96/96 [==============================] - 1s 7ms/step - loss: 4.1263e-04\n",
            "Epoch 159/170\n",
            "96/96 [==============================] - 1s 7ms/step - loss: 5.7047e-04\n",
            "Epoch 160/170\n",
            "96/96 [==============================] - 1s 7ms/step - loss: 9.0626e-04\n",
            "Epoch 161/170\n",
            "96/96 [==============================] - 1s 7ms/step - loss: 4.4724e-04\n",
            "Epoch 162/170\n",
            "96/96 [==============================] - 1s 8ms/step - loss: 7.4194e-04\n",
            "Epoch 163/170\n",
            "96/96 [==============================] - 1s 8ms/step - loss: 8.2850e-04\n",
            "Epoch 164/170\n",
            "96/96 [==============================] - 1s 7ms/step - loss: 8.7439e-04\n",
            "Epoch 165/170\n",
            "96/96 [==============================] - 1s 7ms/step - loss: 5.6093e-04\n",
            "Epoch 166/170\n",
            "96/96 [==============================] - 1s 7ms/step - loss: 4.4242e-04\n",
            "Epoch 167/170\n",
            "96/96 [==============================] - 1s 7ms/step - loss: 9.1445e-04\n",
            "Epoch 168/170\n",
            "96/96 [==============================] - 1s 8ms/step - loss: 6.4306e-04\n",
            "Epoch 169/170\n",
            "96/96 [==============================] - 1s 7ms/step - loss: 0.0011\n",
            "Epoch 170/170\n",
            "96/96 [==============================] - 1s 8ms/step - loss: 5.4908e-04\n"
          ]
        },
        {
          "output_type": "execute_result",
          "data": {
            "text/plain": [
              "<keras.callbacks.History at 0x7f3a05eb2c50>"
            ]
          },
          "metadata": {},
          "execution_count": 407
        }
      ],
      "source": [
        "# fit model\n",
        "model.fit(generator,epochs=170)"
      ]
    },
    {
      "cell_type": "code",
      "execution_count": 408,
      "metadata": {
        "colab": {
          "base_uri": "https://localhost:8080/",
          "height": 282
        },
        "id": "YINxnhgTiq31",
        "outputId": "062a8e2d-420c-4e14-848f-94ac352907c5"
      },
      "outputs": [
        {
          "output_type": "execute_result",
          "data": {
            "text/plain": [
              "[<matplotlib.lines.Line2D at 0x7f3a05c201d0>]"
            ]
          },
          "metadata": {},
          "execution_count": 408
        },
        {
          "output_type": "display_data",
          "data": {
            "text/plain": [
              "<Figure size 432x288 with 1 Axes>"
            ],
            "image/png": "[encoded data removed]"
          },
          "metadata": {
            "needs_background": "light"
          }
        }
      ],
      "source": [
        "loss_per_epoch = model.history.history['loss']\n",
        "plt.plot(range(len(loss_per_epoch)),loss_per_epoch)"
      ]
    },
    {
      "cell_type": "code",
      "execution_count": 409,
      "metadata": {
        "id": "ZM5fUmRKl0bn"
      },
      "outputs": [],
      "source": [
        "last_train_batch = scaled_train[-12:]"
      ]
    },
    {
      "cell_type": "code",
      "execution_count": 410,
      "metadata": {
        "id": "pImxoeV_mM01"
      },
      "outputs": [],
      "source": [
        "last_train_batch = last_train_batch.reshape((1, n_input, n_features))"
      ]
    },
    {
      "cell_type": "code",
      "execution_count": 411,
      "metadata": {
        "colab": {
          "base_uri": "https://localhost:8080/"
        },
        "id": "u4DdYevtmQnz",
        "outputId": "19860142-fb0e-4c7a-b454-d45ad0290c2b"
      },
      "outputs": [
        {
          "output_type": "execute_result",
          "data": {
            "text/plain": [
              "array([[0.34288973]], dtype=float32)"
            ]
          },
          "metadata": {},
          "execution_count": 411
        }
      ],
      "source": [
        "model.predict(last_train_batch)"
      ]
    },
    {
      "cell_type": "code",
      "execution_count": 412,
      "metadata": {
        "colab": {
          "base_uri": "https://localhost:8080/"
        },
        "id": "LRsV3LqUmUge",
        "outputId": "687a63dd-b011-4e9e-f69f-c2db34530899"
      },
      "outputs": [
        {
          "output_type": "execute_result",
          "data": {
            "text/plain": [
              "array([0.34857849])"
            ]
          },
          "metadata": {},
          "execution_count": 412
        }
      ],
      "source": [
        "scaled_test[0]"
      ]
    },
    {
      "cell_type": "code",
      "execution_count": 413,
      "metadata": {
        "id": "QFhMnc35mZs0"
      },
      "outputs": [],
      "source": [
        "test_predictions = []\n",
        "\n",
        "first_eval_batch = scaled_train[-n_input:]\n",
        "current_batch = first_eval_batch.reshape((1, n_input, n_features))\n",
        "\n",
        "for i in range(len(test)):\n",
        "    \n",
        "    # get the prediction value for the first batch\n",
        "    current_pred = model.predict(current_batch)[0]\n",
        "    \n",
        "    # append the prediction into the array\n",
        "    test_predictions.append(current_pred) \n",
        "    \n",
        "    # use the prediction to update the batch and remove the first value\n",
        "    current_batch = np.append(current_batch[:,1:,:],[[current_pred]],axis=1)"
      ]
    },
    {
      "cell_type": "code",
      "execution_count": 414,
      "metadata": {
        "colab": {
          "base_uri": "https://localhost:8080/"
        },
        "id": "pD3K8eeNmeLG",
        "outputId": "90192f56-7751-4ff6-a6cb-34e25b4b0247"
      },
      "outputs": [
        {
          "output_type": "execute_result",
          "data": {
            "text/plain": [
              "[array([0.34288973], dtype=float32),\n",
              " array([0.1601786], dtype=float32),\n",
              " array([0.14979671], dtype=float32),\n",
              " array([0.19545968], dtype=float32),\n",
              " array([0.3908733], dtype=float32),\n",
              " array([0.442249], dtype=float32),\n",
              " array([0.31588107], dtype=float32),\n",
              " array([0.1556327], dtype=float32),\n",
              " array([0.1120825], dtype=float32),\n",
              " array([0.2068867], dtype=float32),\n",
              " array([0.37316048], dtype=float32),\n",
              " array([0.4022632], dtype=float32),\n",
              " array([0.2293643], dtype=float32),\n",
              " array([0.09738487], dtype=float32),\n",
              " array([0.07910912], dtype=float32),\n",
              " array([0.18529199], dtype=float32),\n",
              " array([0.27065045], dtype=float32),\n",
              " array([0.3181684], dtype=float32),\n",
              " array([0.17814131], dtype=float32),\n",
              " array([0.10879013], dtype=float32),\n",
              " array([0.16981593], dtype=float32),\n",
              " array([0.27265683], dtype=float32),\n",
              " array([0.3625303], dtype=float32),\n",
              " array([0.44679463], dtype=float32),\n",
              " array([0.20233598], dtype=float32),\n",
              " array([0.14837202], dtype=float32),\n",
              " array([0.1548902], dtype=float32),\n",
              " array([0.31375158], dtype=float32),\n",
              " array([0.4455843], dtype=float32),\n",
              " array([0.39026833], dtype=float32),\n",
              " array([0.15901177], dtype=float32),\n",
              " array([0.06679417], dtype=float32),\n",
              " array([0.10045202], dtype=float32),\n",
              " array([0.35388243], dtype=float32),\n",
              " array([0.3758483], dtype=float32),\n",
              " array([0.27587545], dtype=float32)]"
            ]
          },
          "metadata": {},
          "execution_count": 414
        }
      ],
      "source": [
        "test_predictions"
      ]
    },
    {
      "cell_type": "code",
      "execution_count": 415,
      "metadata": {
        "colab": {
          "base_uri": "https://localhost:8080/",
          "height": 238
        },
        "id": "cTseZ4iWmg8O",
        "outputId": "cbae6691-4fe9-410e-cb72-2fc67f426a9d"
      },
      "outputs": [
        {
          "output_type": "execute_result",
          "data": {
            "text/plain": [
              "            Confirmed Cases  Predictions\n",
              "Date                                    \n",
              "2019-01-01             1225  1535.828167\n",
              "2019-02-01              792   916.823014\n",
              "2019-03-01              815   644.159143\n",
              "2019-04-01              579   572.727875\n",
              "2019-05-01              866   829.891136"
            ],
            "text/html": [
              "\n",
              "  <div id=\"df-453a8e2c-68ca-43c9-ba3a-095c15a0d117\">\n",
              "    <div class=\"colab-df-container\">\n",
              "      <div>\n",
              "<style scoped>\n",
              "    .dataframe tbody tr th:only-of-type {\n",
              "        vertical-align: middle;\n",
              "    }\n",
              "\n",
              "    .dataframe tbody tr th {\n",
              "        vertical-align: top;\n",
              "    }\n",
              "\n",
              "    .dataframe thead th {\n",
              "        text-align: right;\n",
              "    }\n",
              "</style>\n",
              "<table border=\"1\" class=\"dataframe\">\n",
              "  <thead>\n",
              "    <tr style=\"text-align: right;\">\n",
              "      <th></th>\n",
              "      <th>Confirmed Cases</th>\n",
              "      <th>Predictions</th>\n",
              "    </tr>\n",
              "    <tr>\n",
              "      <th>Date</th>\n",
              "      <th></th>\n",
              "      <th></th>\n",
              "    </tr>\n",
              "  </thead>\n",
              "  <tbody>\n",
              "    <tr>\n",
              "      <th>2019-01-01</th>\n",
              "      <td>1225</td>\n",
              "      <td>1535.828167</td>\n",
              "    </tr>\n",
              "    <tr>\n",
              "      <th>2019-02-01</th>\n",
              "      <td>792</td>\n",
              "      <td>916.823014</td>\n",
              "    </tr>\n",
              "    <tr>\n",
              "      <th>2019-03-01</th>\n",
              "      <td>815</td>\n",
              "      <td>644.159143</td>\n",
              "    </tr>\n",
              "    <tr>\n",
              "      <th>2019-04-01</th>\n",
              "      <td>579</td>\n",
              "      <td>572.727875</td>\n",
              "    </tr>\n",
              "    <tr>\n",
              "      <th>2019-05-01</th>\n",
              "      <td>866</td>\n",
              "      <td>829.891136</td>\n",
              "    </tr>\n",
              "  </tbody>\n",
              "</table>\n",
              "</div>\n",
              "      <button class=\"colab-df-convert\" onclick=\"convertToInteractive('df-453a8e2c-68ca-43c9-ba3a-095c15a0d117')\"\n",
              "              title=\"Convert this dataframe to an interactive table.\"\n",
              "              style=\"display:none;\">\n",
              "        \n",
              "  <svg xmlns=\"http://www.w3.org/2000/svg\" height=\"24px\"viewBox=\"0 0 24 24\"\n",
              "       width=\"24px\">\n",
              "    <path d=\"M0 0h24v24H0V0z\" fill=\"none\"/>\n",
              "    <path d=\"M18.56 5.44l.94 2.06.94-2.06 2.06-.94-2.06-.94-.94-2.06-.94 2.06-2.06.94zm-11 1L8.5 8.5l.94-2.06 2.06-.94-2.06-.94L8.5 2.5l-.94 2.06-2.06.94zm10 10l.94 2.06.94-2.06 2.06-.94-2.06-.94-.94-2.06-.94 2.06-2.06.94z\"/><path d=\"M17.41 7.96l-1.37-1.37c-.4-.4-.92-.59-1.43-.59-.52 0-1.04.2-1.43.59L10.3 9.45l-7.72 7.72c-.78.78-.78 2.05 0 2.83L4 21.41c.39.39.9.59 1.41.59.51 0 1.02-.2 1.41-.59l7.78-7.78 2.81-2.81c.8-.78.8-2.07 0-2.86zM5.41 20L4 18.59l7.72-7.72 1.47 1.35L5.41 20z\"/>\n",
              "  </svg>\n",
              "      </button>\n",
              "      \n",
              "  <style>\n",
              "    .colab-df-container {\n",
              "      display:flex;\n",
              "      flex-wrap:wrap;\n",
              "      gap: 12px;\n",
              "    }\n",
              "\n",
              "    .colab-df-convert {\n",
              "      background-color: #E8F0FE;\n",
              "      border: none;\n",
              "      border-radius: 50%;\n",
              "      cursor: pointer;\n",
              "      display: none;\n",
              "      fill: #1967D2;\n",
              "      height: 32px;\n",
              "      padding: 0 0 0 0;\n",
              "      width: 32px;\n",
              "    }\n",
              "\n",
              "    .colab-df-convert:hover {\n",
              "      background-color: #E2EBFA;\n",
              "      box-shadow: 0px 1px 2px rgba(60, 64, 67, 0.3), 0px 1px 3px 1px rgba(60, 64, 67, 0.15);\n",
              "      fill: #174EA6;\n",
              "    }\n",
              "\n",
              "    [theme=dark] .colab-df-convert {\n",
              "      background-color: #3B4455;\n",
              "      fill: #D2E3FC;\n",
              "    }\n",
              "\n",
              "    [theme=dark] .colab-df-convert:hover {\n",
              "      background-color: #434B5C;\n",
              "      box-shadow: 0px 1px 3px 1px rgba(0, 0, 0, 0.15);\n",
              "      filter: drop-shadow(0px 1px 2px rgba(0, 0, 0, 0.3));\n",
              "      fill: #FFFFFF;\n",
              "    }\n",
              "  </style>\n",
              "\n",
              "      <script>\n",
              "        const buttonEl =\n",
              "          document.querySelector('#df-453a8e2c-68ca-43c9-ba3a-095c15a0d117 button.colab-df-convert');\n",
              "        buttonEl.style.display =\n",
              "          google.colab.kernel.accessAllowed ? 'block' : 'none';\n",
              "\n",
              "        async function convertToInteractive(key) {\n",
              "          const element = document.querySelector('#df-453a8e2c-68ca-43c9-ba3a-095c15a0d117');\n",
              "          const dataTable =\n",
              "            await google.colab.kernel.invokeFunction('convertToInteractive',\n",
              "                                                     [key], {});\n",
              "          if (!dataTable) return;\n",
              "\n",
              "          const docLinkHtml = 'Like what you see? Visit the ' +\n",
              "            '<a target=\"_blank\" href=https://colab.research.google.com/notebooks/data_table.ipynb>data table notebook</a>'\n",
              "            + ' to learn more about interactive tables.';\n",
              "          element.innerHTML = '';\n",
              "          dataTable['output_type'] = 'display_data';\n",
              "          await google.colab.output.renderOutput(dataTable, element);\n",
              "          const docLink = document.createElement('div');\n",
              "          docLink.innerHTML = docLinkHtml;\n",
              "          element.appendChild(docLink);\n",
              "        }\n",
              "      </script>\n",
              "    </div>\n",
              "  </div>\n",
              "  "
            ]
          },
          "metadata": {},
          "execution_count": 415
        }
      ],
      "source": [
        "test.head()"
      ]
    },
    {
      "cell_type": "code",
      "execution_count": 416,
      "metadata": {
        "id": "ZUOZvTurmjNF"
      },
      "outputs": [],
      "source": [
        "true_predictions = scaler.inverse_transform(test_predictions)"
      ]
    },
    {
      "cell_type": "code",
      "execution_count": 417,
      "metadata": {
        "colab": {
          "base_uri": "https://localhost:8080/"
        },
        "id": "xPdp2WHsmnTW",
        "outputId": "df3b888b-07e7-4889-cf10-a33dae1bd642"
      },
      "outputs": [
        {
          "output_type": "stream",
          "name": "stderr",
          "text": [
            "/usr/local/lib/python3.7/dist-packages/ipykernel_launcher.py:1: SettingWithCopyWarning: \n",
            "A value is trying to be set on a copy of a slice from a DataFrame.\n",
            "Try using .loc[row_indexer,col_indexer] = value instead\n",
            "\n",
            "See the caveats in the documentation: https://pandas.pydata.org/pandas-docs/stable/user_guide/indexing.html#returning-a-view-versus-a-copy\n",
            "  \"\"\"Entry point for launching an IPython kernel.\n"
          ]
        }
      ],
      "source": [
        "test['Predictions'] = true_predictions"
      ]
    },
    {
      "cell_type": "code",
      "execution_count": 418,
      "metadata": {
        "colab": {
          "base_uri": "https://localhost:8080/",
          "height": 362
        },
        "id": "vp9FTBOHmtJe",
        "outputId": "88383736-15c5-4307-a16e-d09ce286673a"
      },
      "outputs": [
        {
          "output_type": "execute_result",
          "data": {
            "text/plain": [
              "<matplotlib.axes._subplots.AxesSubplot at 0x7f3a05e129d0>"
            ]
          },
          "metadata": {},
          "execution_count": 418
        },
        {
          "output_type": "display_data",
          "data": {
            "text/plain": [
              "<Figure size 1008x360 with 1 Axes>"
            ],
            "image/png": "[encoded data removed]"
          },
          "metadata": {
            "needs_background": "light"
          }
        }
      ],
      "source": [
        "test.plot(figsize=(14,5))"
      ]
    },
    {
      "cell_type": "code",
      "execution_count": 419,
      "metadata": {
        "colab": {
          "base_uri": "https://localhost:8080/"
        },
        "id": "WGKtUZTom0we",
        "outputId": "222375cd-2991-4991-9907-0ca7ba60d0dc"
      },
      "outputs": [
        {
          "output_type": "stream",
          "name": "stdout",
          "text": [
            "914.0801409061261\n"
          ]
        }
      ],
      "source": [
        "from sklearn.metrics import mean_squared_error\n",
        "from math import sqrt\n",
        "rmse=sqrt(mean_squared_error(test['Confirmed Cases'],test['Predictions']))\n",
        "print(rmse)"
      ]
    },
    {
      "cell_type": "markdown",
      "metadata": {
        "id": "zboIEZKKl0SX"
      },
      "source": [
        ""
      ]
    }
  ],
  "metadata": {
    "colab": {
      "name": "LSTM_CKDU.ipynb",
      "provenance": []
    },
    "kernelspec": {
      "display_name": "Python 3",
      "name": "python3"
    },
    "language_info": {
      "name": "python"
    }
  },
  "nbformat": 4,
  "nbformat_minor": 0
}